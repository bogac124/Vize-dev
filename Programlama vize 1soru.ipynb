{
 "cells": [
  {
   "cell_type": "code",
   "execution_count": 4,
   "id": "cadd8144-3dc2-4846-876b-cae3e3664b31",
   "metadata": {},
   "outputs": [],
   "source": [
    "import numpy as np\n",
    "import matplotlib.pyplot as plt\n",
    "import random\n"
   ]
  },
  {
   "cell_type": "code",
   "execution_count": 5,
   "id": "da5b0bbc-f3da-4d7d-97b3-72ccd52c23ee",
   "metadata": {},
   "outputs": [],
   "source": [
    "deneme_sayisi = 0\n",
    "g = 9.81\n",
    "aci = np.radians(30)\n",
    "hedef_xaxis = 20000+200*random.randint(-10,10)\n",
    "alt_sinir_hiz = 330\n",
    "üst_sinir_hiz = 1800"
   ]
  },
  {
   "cell_type": "code",
   "execution_count": 6,
   "id": "1b8458a8-f86e-4150-9b9e-7f3292215557",
   "metadata": {},
   "outputs": [
    {
     "name": "stdout",
     "output_type": "stream",
     "text": [
      "hedefin arkasında\n",
      "hedefin arkasında\n",
      "hedefin arkasında\n",
      "hedefin arkasında\n",
      "hedefin arkasında\n",
      "hedefin arkasında\n",
      "hedefin arkasında\n",
      "hedefin arkasında\n",
      "hedefin arkasında\n",
      "hedefin arkasında\n",
      "hedefin arkasında\n",
      "hedefin arkasında\n",
      "hedefi vurdunuz\n",
      "vurmak için gereken hiz 465.0\n",
      "deneme sayisi 12\n",
      "max yükseklik 2759.160550458715\n"
     ]
    }
   ],
   "source": [
    "while(True):\n",
    "    ilk_hiz= (alt_sinir_hiz + üst_sinir_hiz)/2\n",
    "    yüksekliğe_ucus = 2 * ilk_hiz * np.sin(aci) / g\n",
    "    toplam_süre1 = 2 * ilk_hiz * np.sin(aci) / g  \n",
    "    toplam_süre= np.linspace(0, toplam_süre1, 100)\n",
    "    \n",
    "    max_yüksekliğe_süresi = np.linspace(0,yüksekliğe_ucus/2,100)\n",
    "    mesafe= ilk_hiz* np.cos(aci) * toplam_süre\n",
    "    yükseklik= 4 + ilk_hiz * np.sin(aci) * toplam_süre - 0.5 * g * toplam_süre ** 2\n",
    "    maks_yükseklik = 4 + ilk_hiz * np.sin(aci) * max_yüksekliğe_süresi - 0.5 * g * max_yüksekliğe_süresi ** 2\n",
    "    \n",
    "    if( hedef_xaxis == mesafe[-1] or hedef_xaxis+1000 > mesafe[-1] >hedef_xaxis-1000 ):\n",
    "        print(\"hedefi vurdunuz\")\n",
    "        print(\"vurmak için gereken hiz\",ilk_hiz)\n",
    "        print(\"deneme sayisi\",deneme_sayisi)\n",
    "        print(\"max yükseklik\",maks_yükseklik[-1])\n",
    "\n",
    "        break\n",
    "    elif(hedef_xaxis+1000 >= mesafe[-1]):\n",
    "        print(\"hedefin önünde\")\n",
    "        alt_sinir_hiz = alt_sinir_hiz + 80\n",
    "\n",
    "    elif(hedef_xaxis-1000 <= mesafe[-1]):\n",
    "        print(\"hedefin arkasında\")\n",
    "        üst_sinir_hiz = üst_sinir_hiz - 100\n",
    "\n",
    "\n",
    "    deneme_sayisi += 1"
   ]
  },
  {
   "cell_type": "code",
   "execution_count": 10,
   "id": "0288b18e-e945-4d7e-90cc-f5cd8f7530e3",
   "metadata": {},
   "outputs": [
    {
     "data": {
      "image/png": "[encoded data removed]",
      "text/plain": [
       "<Figure size 640x480 with 1 Axes>"
      ]
     },
     "metadata": {},
     "output_type": "display_data"
    }
   ],
   "source": [
    "r = 500\n",
    "daire_aci1 = np.linspace(0, 2 * np.pi, 360)\n",
    "merkez1x = hedef_xaxis + r * np.cos(daire_aci1)\n",
    "merkez1y = 0 + r * np.sin(daire_aci1)\n",
    "plt.fill(merkez1x, merkez1y, color='green', alpha=1)\n",
    "\n",
    "\n",
    "plt.plot(merkez1x, merkez1y)\n",
    "\n",
    "plt.plot(mesafe, yükseklik)\n",
    "plt.xlim(0,24000)\n",
    "plt.ylim(0,10000)\n",
    "\n",
    "\n",
    "plt.title('deneme sayisi' + str(deneme_sayisi))\n",
    "plt.xlabel('mesafe (m)')\n",
    "plt.ylabel('yükseklik (m)')\n",
    "plt.grid(True)"
   ]
  },
  {
   "cell_type": "code",
   "execution_count": 11,
   "id": "29c64260-22fc-4be4-b957-e1185d15d692",
   "metadata": {},
   "outputs": [],
   "source": [
    "\n",
    "plt.show()"
   ]
  },
  {
   "cell_type": "code",
   "execution_count": null,
   "id": "f7f5422f-5b72-49fa-ab33-3b6e89d78e70",
   "metadata": {},
   "outputs": [],
   "source": []
  },
  {
   "cell_type": "code",
   "execution_count": null,
   "id": "1bbda76b-550f-424d-84e9-43bdfdf3920d",
   "metadata": {},
   "outputs": [],
   "source": []
  },
  {
   "cell_type": "code",
   "execution_count": null,
   "id": "0d514b7b-1ddc-4f03-ac07-ef95c9ebeb09",
   "metadata": {},
   "outputs": [],
   "source": []
  },
  {
   "cell_type": "code",
   "execution_count": null,
   "id": "c99afd7c-6e8c-4ae9-95a9-08c916d828c5",
   "metadata": {},
   "outputs": [],
   "source": []
  },
  {
   "cell_type": "code",
   "execution_count": null,
   "id": "b38981a9-9449-4d41-bce9-d97136db6841",
   "metadata": {},
   "outputs": [],
   "source": []
  },
  {
   "cell_type": "code",
   "execution_count": null,
   "id": "359b7cea-488b-4e69-9bb7-efe81233cceb",
   "metadata": {},
   "outputs": [],
   "source": []
  },
  {
   "cell_type": "code",
   "execution_count": null,
   "id": "0eaee37a-498a-4043-9c1b-6c806823538c",
   "metadata": {},
   "outputs": [],
   "source": [
    "\n"
   ]
  },
  {
   "cell_type": "code",
   "execution_count": null,
   "id": "f3cb3204-e7a8-46be-81a3-831b6441af6a",
   "metadata": {},
   "outputs": [],
   "source": []
  },
  {
   "cell_type": "code",
   "execution_count": null,
   "id": "3dedca52-698a-4fcf-9d5e-c0e852ca721f",
   "metadata": {},
   "outputs": [],
   "source": []
  },
  {
   "cell_type": "code",
   "execution_count": null,
   "id": "136cc048-f7fb-44fb-99d1-2a4d953c853f",
   "metadata": {},
   "outputs": [],
   "source": []
  },
  {
   "cell_type": "code",
   "execution_count": null,
   "id": "ffc4b5a3-6c22-4f9d-bfe2-bc779d6c8c5c",
   "metadata": {},
   "outputs": [],
   "source": []
  },
  {
   "cell_type": "code",
   "execution_count": null,
   "id": "24b83a78-7bdf-4c88-92e5-a2bf0f787855",
   "metadata": {},
   "outputs": [],
   "source": []
  },
  {
   "cell_type": "code",
   "execution_count": null,
   "id": "0aa528ab-f7de-40ca-b116-c2324b98b1e1",
   "metadata": {},
   "outputs": [],
   "source": []
  },
  {
   "cell_type": "code",
   "execution_count": null,
   "id": "f81e6136-711f-4b3e-af55-4341d84561b0",
   "metadata": {},
   "outputs": [],
   "source": []
  },
  {
   "cell_type": "code",
   "execution_count": null,
   "id": "5e06303e-d3d2-4f5d-809b-b9c9dbefc1c0",
   "metadata": {},
   "outputs": [],
   "source": []
  }
 ],
 "metadata": {
  "kernelspec": {
   "display_name": "Python 3 (ipykernel)",
   "language": "python",
   "name": "python3"
  },
  "language_info": {
   "codemirror_mode": {
    "name": "ipython",
    "version": 3
   },
   "file_extension": ".py",
   "mimetype": "text/x-python",
   "name": "python",
   "nbconvert_exporter": "python",
   "pygments_lexer": "ipython3",
   "version": "3.11.5"
  }
 },
 "nbformat": 4,
 "nbformat_minor": 5
}
